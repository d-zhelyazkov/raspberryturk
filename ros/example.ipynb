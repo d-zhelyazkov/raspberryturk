{
 "cells": [
  {
   "cell_type": "code",
   "execution_count": null,
   "metadata": {
    "collapsed": true
   },
   "outputs": [],
   "source": [
    "import roslibpy\n",
    "ros = roslibpy.Ros(host='localhost', port=9090)\n",
    "ros.run()\n",
    "ros.is_connected"
   ]
  },
  {
   "cell_type": "code",
   "execution_count": null,
   "outputs": [],
   "source": [
    "import time\n",
    "\n",
    "talker = roslibpy.Topic(ros, '/chatter', 'std_msgs/String')\n",
    "\n",
    "while ros.is_connected:\n",
    "    talker.publish(roslibpy.Message({'data': 'Hello World!'}))\n",
    "    print('Sending message...')\n",
    "    time.sleep(1)"
   ],
   "metadata": {
    "collapsed": false
   }
  },
  {
   "cell_type": "code",
   "execution_count": null,
   "outputs": [],
   "source": [
    "listener = roslibpy.Topic(ros, '/chatter', 'std_msgs/String')\n",
    "listener.subscribe(lambda message: print('Heard talking: ' + message['data']))\n"
   ],
   "metadata": {
    "collapsed": false
   }
  }
 ],
 "metadata": {
  "kernelspec": {
   "display_name": "Python 3",
   "language": "python",
   "name": "python3"
  },
  "language_info": {
   "codemirror_mode": {
    "name": "ipython",
    "version": 2
   },
   "file_extension": ".py",
   "mimetype": "text/x-python",
   "name": "python",
   "nbconvert_exporter": "python",
   "pygments_lexer": "ipython2",
   "version": "2.7.6"
  }
 },
 "nbformat": 4,
 "nbformat_minor": 0
}
