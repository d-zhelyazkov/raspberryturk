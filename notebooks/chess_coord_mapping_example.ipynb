{
 "cells": [
  {
   "cell_type": "code",
   "execution_count": null,
   "metadata": {},
   "outputs": [],
   "source": [
    "import os\n",
    "\n",
    "raw_images = os.listdir('office_images')"
   ]
  },
  {
   "cell_type": "code",
   "execution_count": null,
   "metadata": {},
   "outputs": [],
   "source": [
    "raw_images = {\n",
    "\"board_empty_1\":'office_images/Photo on 21.04.23 at 18.16 #2.jpg',\n",
    "\"board_empty_2\":'office_images/Photo on 21.04.23 at 18.16.jpg',\n",
    "\"board_start\":'office_images/Photo on 21.04.23 at 18.17.jpg',\n",
    "\"board_start_2\":'office_images/Photo on 21.04.23 at 18.18 #2.jpg',\n",
    "\"board_move_1\":'office_images/Photo on 21.04.23 at 18.18 #3.jpg',\n",
    "\"board_move_2\":'office_images/Photo on 21.04.23 at 18.18 #4.jpg',\n",
    "\"board_move_3\":'office_images/Photo on 21.04.23 at 18.18 #5.jpg',\n",
    "\"board_move_4\":'office_images/Photo on 21.04.23 at 18.18 #6.jpg',\n",
    "\"board_move_5\":'office_images/Photo on 21.04.23 at 18.18.jpg',\n",
    "\"board_move_6\":'office_images/Photo on 21.04.23 at 18.19 #2.jpg',\n",
    "\"board_move_7\":'office_images/Photo on 21.04.23 at 18.19 #3.jpg',\n",
    "\"board_move_8\":'office_images/Photo on 21.04.23 at 18.19 #4.jpg',\n",
    "\"board_move_9\":'office_images/Photo on 21.04.23 at 18.19 #5.jpg',\n",
    "\"board_move_10\":'office_images/Photo on 21.04.23 at 18.19 #6.jpg',\n",
    "\"board_move_11\":'office_images/Photo on 21.04.23 at 18.19.jpg',\n",
    "\"board_move_12\":'office_images/Photo on 21.04.23 at 18.20.jpg',\n",
    "\"board_empty_last\":'office_images/Photo on 21.04.23 at 18.20 #2.jpg',\n",
    "}"
   ]
  },
  {
   "cell_type": "code",
   "execution_count": null,
   "metadata": {
    "scrolled": true
   },
   "outputs": [],
   "source": [
    "import cv2\n",
    "import matplotlib.pyplot as plt\n",
    "import numpy as np\n",
    "from IPython.display import Image\n",
    "\n",
    "%matplotlib inline\n",
    "\n",
    "# Load the image\n",
    "test_image =raw_images['board_empty_2']\n",
    "\n",
    "img = cv2.imread(test_image, cv2.IMREAD_COLOR)\n",
    "img_fixed_colors = img[:, :, ::-1]\n",
    "\n",
    "# Convert to grayscale\n",
    "gray = cv2.cvtColor(img, cv2.COLOR_BGR2GRAY)\n",
    "print(gray)\n"
   ]
  },
  {
   "cell_type": "code",
   "execution_count": null,
   "metadata": {
    "scrolled": true
   },
   "outputs": [],
   "source": [
    "plt.imshow(img_fixed_colors, cmap='gray')"
   ]
  },
  {
   "cell_type": "code",
   "execution_count": null,
   "metadata": {
    "scrolled": true
   },
   "outputs": [],
   "source": [
    "#cv2.imshow('Original', img)\n",
    "plt.imshow(gray[405:1420,900:2100], cmap='gray')"
   ]
  },
  {
   "cell_type": "code",
   "execution_count": null,
   "metadata": {
    "scrolled": true
   },
   "outputs": [],
   "source": [
    "img_read = cv2.imread(test_image, cv2.IMREAD_GRAYSCALE)\n",
    "plt.imshow( img_read[350:1350,900:2000], cmap = 'gray')\n",
    "#redove, coloni"
   ]
  },
  {
   "cell_type": "code",
   "execution_count": null,
   "metadata": {},
   "outputs": [],
   "source": []
  },
  {
   "cell_type": "code",
   "execution_count": null,
   "metadata": {},
   "outputs": [],
   "source": [
    "img_read = cv2.imread(test_image, cv2.IMREAD_GRAYSCALE)\n",
    "\n",
    "new_imsize = 800\n",
    "\n",
    "#resizing the image to 800\n",
    "img_captured = cv2.resize(img_read[350:1350,900:2100], (new_imsize, new_imsize))\n",
    "\n",
    "\n",
    "#redove, coloni ot resized image\n",
    "\n",
    "top_left = [[95,60]]#bottom right[]y,x\n",
    "bottom_left =  [[18,735]]#bottom left\n",
    "top_right =  [[675,83]]#top right\n",
    "bottom_right = [[730,750]] #y delta olnly first column\n",
    "\n",
    "\n",
    "pts1 = np.float32([top_left, bottom_right,top_right,bottom_left,])\n",
    "pts2 = np.float32([ [0,0],[ new_imsize,new_imsize], [new_imsize,0], [0,new_imsize ],])\n",
    "\n",
    "M = cv2.getPerspectiveTransform(pts1, pts2)\n",
    "\n",
    "warped = cv2.warpPerspective(img_captured, M, (new_imsize,new_imsize))\n",
    "plt.imshow( warped, cmap = 'gray')\n"
   ]
  },
  {
   "cell_type": "markdown",
   "metadata": {},
   "source": [
    "## Example reading sequence of images and straightening them"
   ]
  },
  {
   "cell_type": "code",
   "execution_count": null,
   "metadata": {
    "scrolled": false
   },
   "outputs": [],
   "source": [
    "for im in raw_images:\n",
    "    img_read = cv2.imread(raw_images[im], cv2.IMREAD_GRAYSCALE)\n",
    "    new_imsize = 800\n",
    "    img_captured = cv2.resize(img_read[350:1350,900:2100], (new_imsize, new_imsize))\n",
    "\n",
    "    warped = cv2.warpPerspective(img_captured, M, (new_imsize,new_imsize))\n",
    "    plt.imshow( warped, cmap = 'gray')\n",
    "    plt.figure()\n"
   ]
  },
  {
   "cell_type": "markdown",
   "metadata": {},
   "source": [
    "## trying to map to board coordinates"
   ]
  },
  {
   "cell_type": "code",
   "execution_count": null,
   "metadata": {},
   "outputs": [],
   "source": [
    "letters = ['a','b','c','d','e','f','g','h']\n",
    "pixel_mapping = {}\n",
    "for col in range(0,8,1):\n",
    "    for row in range(1,9,1):\n",
    "        pixel_mapping['{}{}'.format(letters[col],row)]= {'ymin':(col*100),'ymax':(col+1)*100,'xmin':(row-1)*100,'xmax':(row)*100}\n",
    "        \n",
    "pixel_mapping        "
   ]
  },
  {
   "cell_type": "markdown",
   "metadata": {},
   "source": [
    "## getting a specific cell in the sequence"
   ]
  },
  {
   "cell_type": "code",
   "execution_count": null,
   "metadata": {},
   "outputs": [],
   "source": [
    "for im in raw_images:\n",
    "    img_read = cv2.imread(raw_images[im], cv2.IMREAD_GRAYSCALE)\n",
    "    new_imsize = 800\n",
    "    img_captured = cv2.resize(img_read[350:1350,900:2100], (new_imsize, new_imsize))\n",
    "\n",
    "    warped = cv2.warpPerspective(img_captured, M, (new_imsize,new_imsize))\n",
    "    \n",
    "    ##test with other letters\n",
    "    cell = 'b2'\n",
    "    square = warped[pixel_mapping[cell]['xmin']:pixel_mapping[cell]['xmax'],pixel_mapping[cell]['ymin']:pixel_mapping[cell]['ymax']]\n",
    "\n",
    "    plt.imshow( square, cmap = 'gray')\n",
    "    plt.figure()"
   ]
  }
 ],
 "metadata": {
  "kernelspec": {
   "display_name": "Python 3 (ipykernel)",
   "language": "python",
   "name": "python3"
  },
  "language_info": {
   "codemirror_mode": {
    "name": "ipython",
    "version": 3
   },
   "file_extension": ".py",
   "mimetype": "text/x-python",
   "name": "python",
   "nbconvert_exporter": "python",
   "pygments_lexer": "ipython3",
   "version": "3.10.9"
  }
 },
 "nbformat": 4,
 "nbformat_minor": 1
}
