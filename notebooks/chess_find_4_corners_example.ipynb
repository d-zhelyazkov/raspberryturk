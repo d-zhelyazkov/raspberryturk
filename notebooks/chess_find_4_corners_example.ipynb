{
 "cells": [
  {
   "cell_type": "code",
   "source": [],
   "metadata": {
    "id": "ICN8Z5H_AnM-"
   },
   "execution_count": null,
   "outputs": []
  },
  {
   "cell_type": "code",
   "execution_count": null,
   "metadata": {
    "id": "x19rCRhsAktw",
    "executionInfo": {
     "status": "error",
     "timestamp": 1682939481020,
     "user_tz": -180,
     "elapsed": 14,
     "user": {
      "displayName": "Mirela Napetova",
      "userId": "15687302881636974366"
     }
    },
    "outputId": "8cd81729-a50d-4133-fdba-93fefbb54d00",
    "colab": {
     "base_uri": "https://localhost:8080/",
     "height": 205
    }
   },
   "outputs": [],
   "source": [
    "import os\n",
    "\n",
    "raw_images = os.listdir('raw_images')"
   ]
  },
  {
   "cell_type": "code",
   "execution_count": null,
   "metadata": {
    "scrolled": true,
    "id": "-5Va0fOTAktx",
    "executionInfo": {
     "status": "aborted",
     "timestamp": 1682939481021,
     "user_tz": -180,
     "elapsed": 11,
     "user": {
      "displayName": "Mirela Napetova",
      "userId": "15687302881636974366"
     }
    }
   },
   "outputs": [],
   "source": [
    "import cv2\n",
    "import matplotlib.pyplot as plt\n",
    "import numpy as np\n",
    "from IPython.display import Image\n",
    "\n",
    "%matplotlib inline\n",
    "\n",
    "# Load the image\n",
    "test_image ='raw_images/135727.png'\n",
    "test_image ='raw_images/IMG_1013.JPG'\n",
    "\n",
    "img = cv2.imread(test_image, cv2.IMREAD_COLOR)\n",
    "img_fixed_colors = img[:, :, ::-1]\n",
    "\n",
    "# Convert to grayscale\n",
    "gray = cv2.cvtColor(img, cv2.COLOR_BGR2GRAY)\n",
    "print(gray)\n"
   ]
  },
  {
   "cell_type": "code",
   "execution_count": null,
   "metadata": {
    "id": "S00HEr2LAkty",
    "executionInfo": {
     "status": "aborted",
     "timestamp": 1682939481021,
     "user_tz": -180,
     "elapsed": 11,
     "user": {
      "displayName": "Mirela Napetova",
      "userId": "15687302881636974366"
     }
    }
   },
   "outputs": [],
   "source": [
    "Image(filename=test_image) "
   ]
  },
  {
   "cell_type": "code",
   "execution_count": null,
   "metadata": {
    "scrolled": true,
    "id": "vXQCjRrAAkty",
    "executionInfo": {
     "status": "aborted",
     "timestamp": 1682939481022,
     "user_tz": -180,
     "elapsed": 12,
     "user": {
      "displayName": "Mirela Napetova",
      "userId": "15687302881636974366"
     }
    }
   },
   "outputs": [],
   "source": [
    "plt.imshow(img_fixed_colors, cmap='gray')"
   ]
  },
  {
   "cell_type": "code",
   "execution_count": null,
   "metadata": {
    "scrolled": true,
    "id": "xCi9G9HzAkty",
    "executionInfo": {
     "status": "aborted",
     "timestamp": 1682939481022,
     "user_tz": -180,
     "elapsed": 11,
     "user": {
      "displayName": "Mirela Napetova",
      "userId": "15687302881636974366"
     }
    }
   },
   "outputs": [],
   "source": [
    "#cv2.imshow('Original', img)\n",
    "plt.imshow(gray, cmap='gray')"
   ]
  },
  {
   "cell_type": "code",
   "execution_count": null,
   "metadata": {
    "id": "qX2f5LILAkty",
    "executionInfo": {
     "status": "aborted",
     "timestamp": 1682939481022,
     "user_tz": -180,
     "elapsed": 11,
     "user": {
      "displayName": "Mirela Napetova",
      "userId": "15687302881636974366"
     }
    }
   },
   "outputs": [],
   "source": [
    "help(cv2.findChessboardCorners)"
   ]
  },
  {
   "cell_type": "code",
   "execution_count": null,
   "metadata": {
    "scrolled": true,
    "id": "FXdMtqDIAkty",
    "executionInfo": {
     "status": "aborted",
     "timestamp": 1682939481022,
     "user_tz": -180,
     "elapsed": 11,
     "user": {
      "displayName": "Mirela Napetova",
      "userId": "15687302881636974366"
     }
    }
   },
   "outputs": [],
   "source": [
    "matrix2 = np.ones(gray.shape) * 1.1\n",
    "\n",
    "higher_contrast= np.uint8(cv2.multiply(np.float64(gray), matrix2))\n",
    "\n",
    "# Show the images\n",
    "plt.figure(figsize=[18,5])\n",
    "plt.subplot(133); plt.imshow(higher_contrast, cmap='gray');plt.title(\"Higher Contrast\");"
   ]
  },
  {
   "cell_type": "code",
   "execution_count": null,
   "metadata": {
    "scrolled": false,
    "id": "DMi8-reqAktz",
    "executionInfo": {
     "status": "aborted",
     "timestamp": 1682939481022,
     "user_tz": -180,
     "elapsed": 11,
     "user": {
      "displayName": "Mirela Napetova",
      "userId": "15687302881636974366"
     }
    }
   },
   "outputs": [],
   "source": []
  },
  {
   "cell_type": "code",
   "execution_count": null,
   "metadata": {
    "id": "yBzsDhHHAktz",
    "executionInfo": {
     "status": "aborted",
     "timestamp": 1682939481023,
     "user_tz": -180,
     "elapsed": 11,
     "user": {
      "displayName": "Mirela Napetova",
      "userId": "15687302881636974366"
     }
    }
   },
   "outputs": [],
   "source": []
  },
  {
   "cell_type": "code",
   "execution_count": null,
   "metadata": {
    "id": "ROFr8O2sAktz",
    "executionInfo": {
     "status": "aborted",
     "timestamp": 1682939481023,
     "user_tz": -180,
     "elapsed": 11,
     "user": {
      "displayName": "Mirela Napetova",
      "userId": "15687302881636974366"
     }
    }
   },
   "outputs": [],
   "source": [
    "img_read = cv2.imread(test_image, cv2.IMREAD_GRAYSCALE)\n",
    "retval, img_thresh = cv2.threshold(img_read, 150, 255, cv2.THRESH_BINARY)\n",
    "plt.imshow(img_thresh, cmap='gray')"
   ]
  },
  {
   "cell_type": "code",
   "execution_count": null,
   "metadata": {
    "scrolled": false,
    "id": "J_4QhUBjAktz",
    "executionInfo": {
     "status": "aborted",
     "timestamp": 1682939481023,
     "user_tz": -180,
     "elapsed": 11,
     "user": {
      "displayName": "Mirela Napetova",
      "userId": "15687302881636974366"
     }
    }
   },
   "outputs": [],
   "source": [
    "imsize = 500\n",
    "#raw_images\n",
    "for test_image in ['IMG_1013.JPG']:\n",
    "\n",
    "\n",
    "    img_read = cv2.imread('raw_images/'+test_image, cv2.IMREAD_GRAYSCALE)\n",
    "\n",
    "    # Find the chessboard corners\n",
    "    img_captured = cv2.resize(img_read, (imsize, imsize))\n",
    "\n",
    "    ret, corners = cv2.findChessboardCorners(img_captured, (7,7),flags=cv2.CALIB_CB_ADAPTIVE_THRESH)\n",
    "    #                                                + cv2.CALIB_CB_EXHAUSTIVE)\n",
    "    GRID =(7,7)\n",
    "    #print(ret,corners)\n",
    "    if ret == True:\n",
    "        print(test_image)\n",
    "        # Draw the corners on the image\n",
    "        cv2.drawChessboardCorners(img_captured, GRID, corners, ret)\n",
    "\n",
    "        \n",
    "        \n",
    "        # Find the perspective transformation matrix\n",
    "        \n",
    "\n",
    "        x_deltas = [corners[i+1][0][0]-corners[i][0][0] for i in range(0,6)]\n",
    "        y_deltas = [corners[i][0][1]-corners[i+7][0][1] for i in range(0,6)]\n",
    "\n",
    "        top_left = [[corners[0][0][0] - x_deltas[0],corners[0][0][1] + y_deltas[0] ]]\n",
    "        top_right = [[corners[6][0][0] + x_deltas[-1],corners[6][0][1] + y_deltas[-1] ]]\n",
    "        bottom_left = [[corners[42][0][0] - x_deltas[0],corners[42][0][1] - y_deltas[0] ]]\n",
    "        bottom_right = [[corners[48][0][0] + x_deltas[-1],corners[48][0][1] - y_deltas[-1] ]]#y delta olnly first column\n",
    "\n",
    "        pts1 = np.float32([corners[0], corners[6], corners[42], corners[48]])\n",
    "        pts1 = np.float32([top_left, top_right, bottom_left, bottom_right])\n",
    "\n",
    "        pts2 = np.float32([[0,0], [imsize,0], [0,imsize], [imsize,imsize]])\n",
    "        M = cv2.getPerspectiveTransform(pts1, pts2)\n",
    "        #cv2.drawChessboardCorners(img_captured, (7,7), corners, ret)\n",
    "        # Warp the image\n",
    "        warped = cv2.warpPerspective(img_captured, M, (imsize,imsize))\n",
    "\n",
    "        # Display the images\n",
    "        #cv2.imshow('Original', img_captured)\n",
    "        #cv2.imshow('Warped', warped)\n",
    "        \n",
    "\n",
    "        plt.imshow( warped, cmap = 'gray')\n",
    "\n"
   ]
  },
  {
   "cell_type": "markdown",
   "metadata": {
    "id": "3WxM6GpxAktz"
   },
   "source": [
    "# Input coordinates for straghtening the image\n",
    "## TODO: Check if image is not inverted"
   ]
  },
  {
   "cell_type": "code",
   "execution_count": null,
   "metadata": {
    "id": "ZYermNd7Akt0",
    "executionInfo": {
     "status": "aborted",
     "timestamp": 1682939481023,
     "user_tz": -180,
     "elapsed": 11,
     "user": {
      "displayName": "Mirela Napetova",
      "userId": "15687302881636974366"
     }
    }
   },
   "outputs": [],
   "source": [
    "print(top_left)\n",
    "print(top_right)\n",
    "print(bottom_left)\n",
    "print(bottom_right)\n"
   ]
  },
  {
   "cell_type": "code",
   "execution_count": null,
   "metadata": {
    "id": "p1HpxtcHAkt0",
    "executionInfo": {
     "status": "aborted",
     "timestamp": 1682939481024,
     "user_tz": -180,
     "elapsed": 11,
     "user": {
      "displayName": "Mirela Napetova",
      "userId": "15687302881636974366"
     }
    }
   },
   "outputs": [],
   "source": [
    "plt.imshow( warped, cmap = 'gray')\n",
    "plt.imshow( warped, cmap = 'gray')\n"
   ]
  },
  {
   "cell_type": "code",
   "execution_count": null,
   "metadata": {
    "id": "RrPS_BAjAkt0",
    "executionInfo": {
     "status": "aborted",
     "timestamp": 1682939481024,
     "user_tz": -180,
     "elapsed": 11,
     "user": {
      "displayName": "Mirela Napetova",
      "userId": "15687302881636974366"
     }
    }
   },
   "outputs": [],
   "source": [
    "box_sizes = []\n",
    "for i in range(0,7):\n",
    "    for j in range(0,7):\n",
    "        if (i+j) %6  != 0:\n",
    "            box_sizes.append(np.sqrt((corners[i+j+1][0][0]-corners[i+j][0][0])**2 + (corners[i+j+1][0][1]-corners[i+j][0][1])**2))"
   ]
  },
  {
   "cell_type": "code",
   "execution_count": null,
   "metadata": {
    "id": "RkCrXg5PAkt0",
    "executionInfo": {
     "status": "aborted",
     "timestamp": 1682939481024,
     "user_tz": -180,
     "elapsed": 11,
     "user": {
      "displayName": "Mirela Napetova",
      "userId": "15687302881636974366"
     }
    }
   },
   "outputs": [],
   "source": [
    "mean_box_size = np.mean(box_sizes)\n",
    "mean_box_size"
   ]
  },
  {
   "cell_type": "code",
   "execution_count": null,
   "metadata": {
    "id": "A1l1M0zUAkt0",
    "executionInfo": {
     "status": "aborted",
     "timestamp": 1682939481024,
     "user_tz": -180,
     "elapsed": 11,
     "user": {
      "displayName": "Mirela Napetova",
      "userId": "15687302881636974366"
     }
    }
   },
   "outputs": [],
   "source": []
  },
  {
   "cell_type": "markdown",
   "metadata": {
    "id": "m6QcDgtGAkt0"
   },
   "source": [
    "## Check if squares had similar length in pixels"
   ]
  },
  {
   "cell_type": "code",
   "execution_count": null,
   "metadata": {
    "id": "5OuUieZ6Akt0",
    "executionInfo": {
     "status": "aborted",
     "timestamp": 1682939481024,
     "user_tz": -180,
     "elapsed": 11,
     "user": {
      "displayName": "Mirela Napetova",
      "userId": "15687302881636974366"
     }
    }
   },
   "outputs": [],
   "source": [
    "#better find x/ y step \n",
    "#topdeltax \n",
    "x_deltas = [corners[i+1][0][0]-corners[i][0][0] for i in range(0,6)]\n",
    "y_deltas = [corners[i][0][1]-corners[i+7][0][1] for i in range(0,6)]\n",
    "print(y_deltas)\n",
    "\n",
    "top_left = [[corners[0][0][0] - x_deltas[0],corners[0][0][1] - y_deltas[0] ]]\n",
    "top_right = [[corners[6][0][0] + x_deltas[-1],corners[6][0][1] - y_deltas[-1] ]]\n",
    "bottom_left = [[corners[42][0][0] - x_deltas[0],corners[42][0][1] + y_deltas[0] ]]\n",
    "bottom_right = [[corners[48][0][0] + x_deltas[-1],corners[48][0][1] + y_deltas[-1] ]]#y delta olnly first column"
   ]
  },
  {
   "cell_type": "code",
   "execution_count": null,
   "metadata": {
    "id": "rXM6p_1TAkt0",
    "executionInfo": {
     "status": "aborted",
     "timestamp": 1682939481024,
     "user_tz": -180,
     "elapsed": 11,
     "user": {
      "displayName": "Mirela Napetova",
      "userId": "15687302881636974366"
     }
    }
   },
   "outputs": [],
   "source": [
    "box_sizes"
   ]
  },
  {
   "cell_type": "code",
   "execution_count": null,
   "metadata": {
    "id": "bLa1SMS1Akt0",
    "executionInfo": {
     "status": "aborted",
     "timestamp": 1682939481025,
     "user_tz": -180,
     "elapsed": 12,
     "user": {
      "displayName": "Mirela Napetova",
      "userId": "15687302881636974366"
     }
    }
   },
   "outputs": [],
   "source": [
    "fnl = cv2.drawChessboardCorners(img_captured, GRID, corners, ret)\n",
    "plt.imshow( fnl, cmap='gray')\n"
   ]
  },
  {
   "cell_type": "code",
   "execution_count": null,
   "metadata": {
    "scrolled": true,
    "id": "s3Duv4G8Akt1",
    "executionInfo": {
     "status": "aborted",
     "timestamp": 1682939481025,
     "user_tz": -180,
     "elapsed": 12,
     "user": {
      "displayName": "Mirela Napetova",
      "userId": "15687302881636974366"
     }
    }
   },
   "outputs": [],
   "source": [
    "corners[0]"
   ]
  },
  {
   "cell_type": "code",
   "execution_count": null,
   "metadata": {
    "id": "r5hbEe2UAkt1",
    "executionInfo": {
     "status": "aborted",
     "timestamp": 1682939481025,
     "user_tz": -180,
     "elapsed": 12,
     "user": {
      "displayName": "Mirela Napetova",
      "userId": "15687302881636974366"
     }
    }
   },
   "outputs": [],
   "source": [
    "len(corners)"
   ]
  },
  {
   "cell_type": "code",
   "execution_count": null,
   "metadata": {
    "pycharm": {
     "name": "#%%\n"
    },
    "id": "SUC7LuiPAkt1",
    "executionInfo": {
     "status": "aborted",
     "timestamp": 1682939481025,
     "user_tz": -180,
     "elapsed": 12,
     "user": {
      "displayName": "Mirela Napetova",
      "userId": "15687302881636974366"
     }
    }
   },
   "outputs": [],
   "source": [
    "cv2.waitKey(0)\n",
    "cv2.destroyAllWindows()\n"
   ]
  }
 ],
 "metadata": {
  "kernelspec": {
   "display_name": "Python 3 (ipykernel)",
   "language": "python",
   "name": "python3"
  },
  "language_info": {
   "codemirror_mode": {
    "name": "ipython",
    "version": 3
   },
   "file_extension": ".py",
   "mimetype": "text/x-python",
   "name": "python",
   "nbconvert_exporter": "python",
   "pygments_lexer": "ipython3",
   "version": "3.10.9"
  },
  "colab": {
   "provenance": []
  }
 },
 "nbformat": 4,
 "nbformat_minor": 0
}
