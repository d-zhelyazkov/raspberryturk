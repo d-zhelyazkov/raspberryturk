{
 "cells": [
  {
   "cell_type": "code",
   "execution_count": null,
   "metadata": {},
   "outputs": [],
   "source": [
    "# @formatter:off\n",
    "%load_ext autoreload\n",
    "%autoreload 2\n",
    "# @formatter:on"
   ]
  },
  {
   "cell_type": "code",
   "execution_count": null,
   "metadata": {},
   "outputs": [],
   "source": [
    "import cv2 as cv2\n",
    "from matplotlib import pyplot as plt"
   ]
  },
  {
   "cell_type": "code",
   "execution_count": null,
   "metadata": {},
   "outputs": [],
   "source": [
    "!pwd\n"
   ]
  },
  {
   "cell_type": "code",
   "execution_count": null,
   "metadata": {},
   "outputs": [],
   "source": [
    "def imread(file_):\n",
    "    img = cv2.imread(file_,\n",
    "                     # cv2.IMREAD_GRAYSCALE,\n",
    "                     )\n",
    "    img = cv2.cvtColor(img, cv2.COLOR_BGR2RGB)\n",
    "    return img\n",
    "\n",
    "\n",
    "def imshow(img_):\n",
    "    plt.imshow(\n",
    "        img_,\n",
    "        # cmap=\"gray\",\n",
    "    )\n"
   ]
  },
  {
   "cell_type": "code",
   "execution_count": null,
   "metadata": {},
   "outputs": [],
   "source": [
    "img = imread(\"office_images/Photo on 21.04.23 at 18.18 #2.jpg\")\n",
    "imshow(img)"
   ]
  },
  {
   "cell_type": "code",
   "execution_count": null,
   "metadata": {},
   "outputs": [],
   "source": [
    "from raspberryturk.core.vision import chessboard_frame\n",
    "\n",
    "board_1 = chessboard_frame.get(img)\n",
    "imshow(board_1)"
   ]
  },
  {
   "cell_type": "code",
   "execution_count": null,
   "metadata": {},
   "outputs": [],
   "source": [
    "board_2 = chessboard_frame.get(imread(\n",
    "    \"office_images/Photo on 21.04.23 at 18.18 #3.jpg\"))\n",
    "imshow(board_2)\n"
   ]
  },
  {
   "cell_type": "code",
   "execution_count": null,
   "metadata": {},
   "outputs": [],
   "source": [
    "from core.vision import img_diff\n",
    "\n",
    "imshow(img_diff(board_1, board_2))"
   ]
  },
  {
   "cell_type": "code",
   "execution_count": null,
   "metadata": {},
   "outputs": [],
   "source": [
    "\n",
    "\n",
    "cells = chessboard_frame.move_cells(board_1, board_2)\n",
    "cells"
   ]
  },
  {
   "cell_type": "code",
   "execution_count": null,
   "metadata": {},
   "outputs": [],
   "source": [
    "from raspberryturk.embedded import game\n",
    "\n",
    "game.start_new_game()\n",
    "game.get_board()\n"
   ]
  },
  {
   "cell_type": "code",
   "execution_count": null,
   "metadata": {},
   "outputs": [],
   "source": [
    "\n",
    "\n",
    "cells = game.cells_strs(cells)\n",
    "cells"
   ]
  },
  {
   "cell_type": "code",
   "execution_count": null,
   "metadata": {},
   "outputs": [],
   "source": [
    "\n",
    "m = game.move(cells)\n",
    "m"
   ]
  },
  {
   "cell_type": "code",
   "execution_count": null,
   "metadata": {},
   "outputs": [],
   "source": [
    "game.apply_move(m)\n",
    "game.get_board()"
   ]
  },
  {
   "cell_type": "code",
   "execution_count": null,
   "metadata": {},
   "outputs": [],
   "source": [
    "img = imread(\"office_images/Photo on 21.04.23 at 18.18 #2.jpg\")\n",
    "board = chessboard_frame.get(img)\n",
    "imshow(board)\n",
    "\n",
    "game.start_new_game()\n",
    "display(game.get_board())\n"
   ]
  },
  {
   "cell_type": "code",
   "execution_count": null,
   "metadata": {},
   "outputs": [],
   "source": [
    "def play_img(img):\n",
    "    new_board = chessboard_frame.get(imread(img))\n",
    "    imshow(new_board)\n",
    "\n",
    "    global board\n",
    "    cells = game.cells_strs(\n",
    "        chessboard_frame.move_cells(board, new_board))\n",
    "    display(cells)\n",
    "\n",
    "    game.apply_move(game.move(cells))\n",
    "    display(game.get_board())\n",
    "\n",
    "    board = new_board\n"
   ]
  },
  {
   "cell_type": "code",
   "execution_count": null,
   "metadata": {},
   "outputs": [],
   "source": [
    "play_img(\"office_images/Photo on 21.04.23 at 18.18 #3.jpg\")"
   ]
  },
  {
   "cell_type": "code",
   "execution_count": null,
   "metadata": {},
   "outputs": [],
   "source": [
    "play_img(\"office_images/Photo on 21.04.23 at 18.18 #4.jpg\")"
   ]
  },
  {
   "cell_type": "code",
   "execution_count": null,
   "metadata": {},
   "outputs": [],
   "source": [
    "play_img(\"office_images/Photo on 21.04.23 at 18.18 #5.jpg\")"
   ]
  },
  {
   "cell_type": "code",
   "execution_count": null,
   "metadata": {},
   "outputs": [],
   "source": [
    "play_img(\"office_images/Photo on 21.04.23 at 18.18 #6.jpg\")"
   ]
  }
 ],
 "metadata": {
  "kernelspec": {
   "display_name": "Python 3 (ipykernel)",
   "language": "python",
   "name": "python3"
  },
  "language_info": {
   "codemirror_mode": {
    "name": "ipython",
    "version": 3
   },
   "file_extension": ".py",
   "mimetype": "text/x-python",
   "name": "python",
   "nbconvert_exporter": "python",
   "pygments_lexer": "ipython3",
   "version": "3.10.9"
  }
 },
 "nbformat": 4,
 "nbformat_minor": 1
}
